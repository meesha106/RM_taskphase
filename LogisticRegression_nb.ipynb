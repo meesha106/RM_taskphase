{
 "cells": [
  {
   "cell_type": "code",
   "execution_count": 23,
   "id": "fd18c4b4-52b2-41af-b81a-7f9fa969adc8",
   "metadata": {},
   "outputs": [],
   "source": [
    "import numpy as np\n",
    "import pandas as pd\n",
    "import matplotlib.pyplot as plt\n",
    "\n",
    "dataset = pd.read_csv(\"D:\\\\RM_Logistic-Regression\\\\weatherAUS.zip\", compression=\"zip\")\n",
    "if dataset.isnull().sum().sum()>0:\n",
    "    dataset=dataset.dropna()\n",
    "dataset.head()\n",
    "\n",
    "dataset[\"RainToday\"] = dataset[\"RainToday\"].map({\"Yes\": 1, \"No\": 0})\n",
    "dataset[\"RainTomorrow\"]=dataset[\"RainTomorrow\"].map({\"Yes\":1,\"No\":0})\n",
    "\n",
    "X=dataset[['MinTemp','MaxTemp','Rainfall','Evaporation','Sunshine','WindGustSpeed',\n",
    "           'WindSpeed9am','WindSpeed3pm','Humidity9am','Humidity3pm','Pressure9am',\n",
    "           'Pressure3pm','Cloud9am','Cloud3pm','Temp9am','Temp3pm']].values\n",
    "y1=dataset['RainToday'].values\n",
    "y2=dataset['RainTomorrow'].values\n",
    "\n",
    "x_mean=np.mean(X,axis=0)\n",
    "x_std=np.std(X,axis=0)\n",
    "X=(X-x_mean)/x_std\n",
    "\n",
    "split_index = int(0.8 * len(X))\n",
    "\n",
    "X_train = X[:split_index] \n",
    "Y1_train = y1[:split_index]  \n",
    "Y2_train = y2[:split_index]\n",
    "\n",
    "X_test = X[split_index:]   \n",
    "Y1_test = y1[split_index:] \n",
    "Y2_test = y2[split_index:] "
   ]
  },
  {
   "cell_type": "code",
   "execution_count": 24,
   "id": "a457dea9-3ae7-4498-9a85-82298eae5bdf",
   "metadata": {},
   "outputs": [],
   "source": [
    "class LogisticRegression() : \n",
    "    def __init__( self, lr, iters ) :         \n",
    "        self.lr = lr         \n",
    "        self.iters = iters \n",
    "    def fit( self, X, Y ) :                 \n",
    "        self.m, self.n = X.shape                  \n",
    "        self.wts = self.wts = np.random.randn(self.n) * 0.01       \n",
    "        self.b = 0        \n",
    "        self.X = X         \n",
    "        self.Y = Y              \n",
    "        for i in range( self.iters ) :             \n",
    "            self.update_weights()             \n",
    "    def update_weights( self ) :            \n",
    "        A = 1 / ( 1 + np.exp( - ( self.X.dot( self.wts ) + self.b ) ) )      \n",
    "        tmp = ( A - self.Y.T )         \n",
    "        tmp = np.reshape( tmp, self.m )         \n",
    "        dW = np.dot( self.X.T, tmp ) / self.m          \n",
    "        db = np.sum( tmp ) / self.m      \n",
    "        self.wts = self.wts - self.lr * dW     \n",
    "        self.b = self.b - self.lr * db \n",
    "        return self\n",
    "    def predict( self, X ) :     \n",
    "        Z = 1 / ( 1 + np.exp( - ( X.dot( self.wts ) + self.b ) ) )         \n",
    "        Y = np.where( Z > 0.5, 1, 0 )         \n",
    "        return Y \n",
    "    def print_weights(self):\n",
    "        print(\"Weights for the respective features are:\")\n",
    "        print(self.wts)\n",
    "        print()\n",
    "        print(\"Bias value for the regression is\", self.b)"
   ]
  },
  {
   "cell_type": "code",
   "execution_count": 25,
   "id": "e3595de2-8919-4216-9d43-44f7ff25a7fc",
   "metadata": {},
   "outputs": [
    {
     "name": "stdout",
     "output_type": "stream",
     "text": [
      "Weights for the respective features are:\n",
      "[ 8.79585611e-01 -5.91463444e-01  9.31546963e+00 -4.61852142e-01\n",
      "  1.60396440e-01  2.00402472e-01  6.78948604e-02 -6.03116491e-02\n",
      "  6.54822020e-01 -2.08240267e-01 -7.12872531e-01  5.88143608e-01\n",
      " -1.22378707e-03  1.56777782e-01  1.65651007e-01 -3.91452925e-01]\n",
      "\n",
      "Bias value for the regression is -0.5911555227840287\n",
      "Weights for the respective features are:\n",
      "[-0.16522654  0.08041292  0.17952588 -0.02323786 -0.52260928  0.83615576\n",
      " -0.0954973  -0.24784789  0.0680695   1.13137239  0.88439281 -1.28838576\n",
      " -0.04987107  0.32347287  0.12604684  0.03779843]\n",
      "\n",
      "Bias value for the regression is -1.93239485781283\n"
     ]
    }
   ],
   "source": [
    "model1=LogisticRegression(lr=0.1,iters=5000)\n",
    "model1.fit(X_train,Y1_train)\n",
    "model1.print_weights()\n",
    "model2=LogisticRegression(lr=0.8,iters=10000)\n",
    "model2.fit(X_train,Y2_train)\n",
    "model2.print_weights()\n",
    "y1_pred_train=model1.predict(X_train)\n",
    "y1_pred_test=model1.predict(X_test)\n",
    "y2_pred_train=model2.predict(X_train)\n",
    "y2_pred_test=model2.predict(X_test)"
   ]
  },
  {
   "cell_type": "code",
   "execution_count": 26,
   "id": "0fd113a1-1608-4263-b525-d5157648c086",
   "metadata": {},
   "outputs": [
    {
     "name": "stdout",
     "output_type": "stream",
     "text": [
      "Training Accuracy for Today's Rainfall: 96.37%\n",
      "Test Accuracy for Today's Rainfall: 97.47%\n",
      "Training Accuracy for Tomorrow's Rainfall: 84.95%\n",
      "Test Accuracy for Tomorrow's Rainfall: 87.22%\n"
     ]
    }
   ],
   "source": [
    "train1_accuracy = np.mean(y1_pred_train == Y1_train) * 100\n",
    "test1_accuracy = np.mean(y1_pred_test == Y1_test) * 100\n",
    "train2_accuracy = np.mean(y2_pred_train == Y2_train) * 100\n",
    "test2_accuracy = np.mean(y2_pred_test == Y2_test) * 100\n",
    "\n",
    "# Display Results\n",
    "print(f\"Training Accuracy for Today's Rainfall: {train1_accuracy:.2f}%\")\n",
    "print(f\"Test Accuracy for Today's Rainfall: {test1_accuracy:.2f}%\")\n",
    "print(f\"Training Accuracy for Tomorrow's Rainfall: {train2_accuracy:.2f}%\")\n",
    "print(f\"Test Accuracy for Tomorrow's Rainfall: {test2_accuracy:.2f}%\")"
   ]
  }
 ],
 "metadata": {
  "kernelspec": {
   "display_name": "Python 3 (ipykernel)",
   "language": "python",
   "name": "python3"
  },
  "language_info": {
   "codemirror_mode": {
    "name": "ipython",
    "version": 3
   },
   "file_extension": ".py",
   "mimetype": "text/x-python",
   "name": "python",
   "nbconvert_exporter": "python",
   "pygments_lexer": "ipython3",
   "version": "3.13.1"
  }
 },
 "nbformat": 4,
 "nbformat_minor": 5
}
